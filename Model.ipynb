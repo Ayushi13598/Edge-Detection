{
 "cells": [
  {
   "cell_type": "code",
   "execution_count": 1,
   "metadata": {},
   "outputs": [],
   "source": [
    "#import packages\n",
    "import numpy as np\n",
    "import matplotlib.pyplot as plt"
   ]
  },
  {
   "cell_type": "code",
   "execution_count": 2,
   "metadata": {},
   "outputs": [],
   "source": [
    "#define the vertical filter\n",
    "vertical_filter= [[-1,-2,-1], [0,0,0], [1,2,1]]"
   ]
  },
  {
   "cell_type": "code",
   "execution_count": 3,
   "metadata": {},
   "outputs": [],
   "source": [
    "#define horizontal filter\n",
    "horizontal_filter= [[-1,0,1], [-2,0,2], [-1,0,1]]"
   ]
  },
  {
   "cell_type": "code",
   "execution_count": 4,
   "metadata": {},
   "outputs": [],
   "source": [
    "#read image\n",
    "img = plt.imread('image.png')"
   ]
  },
  {
   "cell_type": "code",
   "execution_count": 5,
   "metadata": {},
   "outputs": [],
   "source": [
    "#get the dimensions of the image\n",
    "n,m,d = img.shape"
   ]
  },
  {
   "cell_type": "code",
   "execution_count": 6,
   "metadata": {},
   "outputs": [],
   "source": [
    "#initialize the edges image\n",
    "edges_img = img.copy()"
   ]
  },
  {
   "cell_type": "code",
   "execution_count": 7,
   "metadata": {},
   "outputs": [],
   "source": [
    "#loop over all pixels in the image\n",
    "for row in range(3, n-2):\n",
    "    for col in range(3, m-2):\n",
    "        \n",
    "        #create little local 3x3 box\n",
    "        local_pixels = img[row-1:row+2, col-1:col+2, 0]\n",
    "        \n",
    "        #apply the vertical filter\n",
    "        vertical_transformed_pixels = vertical_filter*local_pixels\n",
    "        #remap the vertical score\n",
    "        vertical_score = vertical_transformed_pixels.sum()/4\n",
    "        \n",
    "        #apply the horizontal filter\n",
    "        horizontal_transformed_pixels = horizontal_filter*local_pixels\n",
    "        #remap the horizontal score\n",
    "        horizontal_score = horizontal_transformed_pixels.sum()/4\n",
    "        \n",
    "        #combine the horizontal and vertical scores into a total edge score\n",
    "        edge_score = (vertical_score**2 + horizontal_score**2)**.5\n",
    "        \n",
    "        #insert this edge score into the edges image\n",
    "        edges_img[row, col] = [edge_score]*3\n",
    "\n",
    "#remap the values in the 0-1 range in case they went out of bounds\n",
    "edges_img = edges_img/edges_img.max()"
   ]
  },
  {
   "cell_type": "code",
   "execution_count": null,
   "metadata": {},
   "outputs": [],
   "source": []
  }
 ],
 "metadata": {
  "kernelspec": {
   "display_name": "Python 3",
   "language": "python",
   "name": "python3"
  },
  "language_info": {
   "codemirror_mode": {
    "name": "ipython",
    "version": 3
   },
   "file_extension": ".py",
   "mimetype": "text/x-python",
   "name": "python",
   "nbconvert_exporter": "python",
   "pygments_lexer": "ipython3",
   "version": "3.6.8"
  }
 },
 "nbformat": 4,
 "nbformat_minor": 2
}
